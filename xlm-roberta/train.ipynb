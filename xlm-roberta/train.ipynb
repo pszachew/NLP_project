{
 "cells": [
  {
   "cell_type": "code",
   "execution_count": null,
   "metadata": {},
   "outputs": [],
   "source": [
    "from model import XLM_RoBERTa_classifier_one\n",
    "from utils import get_datasets\n",
    "from torch.utils.data import DataLoader\n",
    "import torch\n",
    "from sklearn.metrics import accuracy_score\n",
    "from torch.optim import Adam\n",
    "from torch import nn\n",
    "from tqdm import tqdm\n",
    "import numpy as np\n",
    "from transformers import AutoTokenizer\n",
    "\n",
    "tokenizer = AutoTokenizer.from_pretrained('xlm-roberta-base')"
   ]
  },
  {
   "cell_type": "code",
   "execution_count": null,
   "metadata": {},
   "outputs": [],
   "source": [
    "device = torch.device(\"mps\") if torch.backends.mps.is_available() else torch.device(\"cpu\")\n",
    "#device = torch.device(\"cpu\")\n",
    "device"
   ]
  },
  {
   "cell_type": "code",
   "execution_count": null,
   "metadata": {},
   "outputs": [],
   "source": [
    "train, test, val = get_datasets()"
   ]
  },
  {
   "cell_type": "code",
   "execution_count": null,
   "metadata": {},
   "outputs": [],
   "source": [
    "train_dl, test_dl, val_dl = DataLoader(train, batch_size=128, shuffle=True), DataLoader(test, batch_size=128, shuffle=True), DataLoader(val, batch_size=128, shuffle=True)"
   ]
  },
  {
   "cell_type": "code",
   "execution_count": null,
   "metadata": {},
   "outputs": [],
   "source": [
    "model = XLM_RoBERTa_classifier_one()\n",
    "optimizer = Adam(model.parameters(), lr=5e-5)\n",
    "model.to(device)\n",
    "num_epochs = 3\n",
    "loss_fun = nn.CrossEntropyLoss()\n",
    "\n",
    "losses = []\n",
    "acc = []\n",
    "\n",
    "\n",
    "i = 0\n",
    "\n",
    "for epoch in range(num_epochs):\n",
    "    for batch in tqdm(train_dl):\n",
    "        tok_batch = tokenizer(batch['premise'], batch['hypothesis'], return_tensors='pt', padding=\"max_length\",\n",
    "            max_length=64,\n",
    "            truncation=True)\n",
    "        labels = batch['label'].to(device)\n",
    "\n",
    "        outputs = model(tok_batch['input_ids'].to(device), tok_batch['attention_mask'].to(device))\n",
    "        loss = loss_fun(outputs, labels)\n",
    "        acc_curr = accuracy_score(labels.cpu(), outputs.cpu().argmax(dim=1))\n",
    "        acc.append(acc_curr)\n",
    "        loss.backward()\n",
    "\n",
    "        optimizer.step()\n",
    "#         lr_scheduler.step()\n",
    "        optimizer.zero_grad()\n",
    "        # progress_bar.update(1)\n",
    "        if i % 20 == 0:\n",
    "            print(\"Train set accuracy: \" + str(acc_curr))\n",
    "        i = i + 1\n",
    "        losses.append(loss.item())\n",
    "    #torch.save(model.state_dict(), \"/content/drive/MyDrive/xlm_roberta_state/xlm_roberta.pth\")\n",
    "    print(np.mean(losses))"
   ]
  }
 ],
 "metadata": {
  "kernelspec": {
   "display_name": "nlp",
   "language": "python",
   "name": "python3"
  },
  "language_info": {
   "codemirror_mode": {
    "name": "ipython",
    "version": 3
   },
   "file_extension": ".py",
   "mimetype": "text/x-python",
   "name": "python",
   "nbconvert_exporter": "python",
   "pygments_lexer": "ipython3",
   "version": "3.10.8"
  },
  "orig_nbformat": 4
 },
 "nbformat": 4,
 "nbformat_minor": 2
}
